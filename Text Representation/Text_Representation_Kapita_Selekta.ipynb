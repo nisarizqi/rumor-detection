{
  "nbformat": 4,
  "nbformat_minor": 0,
  "metadata": {
    "colab": {
      "provenance": [],
      "gpuType": "T4"
    },
    "kernelspec": {
      "name": "python3",
      "display_name": "Python 3"
    },
    "language_info": {
      "name": "python"
    },
    "accelerator": "GPU"
  },
  "cells": [
    {
      "cell_type": "markdown",
      "source": [
        "##**Cleaning & Preprocess Dataset**"
      ],
      "metadata": {
        "id": "QQFzWKmkuvtH"
      }
    },
    {
      "cell_type": "code",
      "source": [
        "pip install Sastrawi"
      ],
      "metadata": {
        "colab": {
          "base_uri": "https://localhost:8080/"
        },
        "id": "EwuZDVotxRT-",
        "outputId": "8441d355-d011-45e2-8174-f0445b5adf37"
      },
      "execution_count": 1,
      "outputs": [
        {
          "output_type": "stream",
          "name": "stdout",
          "text": [
            "Collecting Sastrawi\n",
            "  Downloading Sastrawi-1.0.1-py2.py3-none-any.whl (209 kB)\n",
            "\u001b[2K     \u001b[90m━━━━━━━━━━━━━━━━━━━━━━━━━━━━━━━━━━━━━━━━\u001b[0m \u001b[32m209.7/209.7 kB\u001b[0m \u001b[31m1.8 MB/s\u001b[0m eta \u001b[36m0:00:00\u001b[0m\n",
            "\u001b[?25hInstalling collected packages: Sastrawi\n",
            "Successfully installed Sastrawi-1.0.1\n"
          ]
        }
      ]
    },
    {
      "cell_type": "code",
      "execution_count": 2,
      "metadata": {
        "colab": {
          "base_uri": "https://localhost:8080/"
        },
        "id": "pakgiduLur_5",
        "outputId": "ed7ed901-11eb-4068-9d98-87225147b03d"
      },
      "outputs": [
        {
          "output_type": "stream",
          "name": "stderr",
          "text": [
            "[nltk_data] Downloading package punkt to /root/nltk_data...\n",
            "[nltk_data]   Unzipping tokenizers/punkt.zip.\n",
            "[nltk_data] Downloading package stopwords to /root/nltk_data...\n",
            "[nltk_data]   Unzipping corpora/stopwords.zip.\n"
          ]
        }
      ],
      "source": [
        "import re\n",
        "import pandas as pd\n",
        "import string\n",
        "import nltk\n",
        "from nltk.tokenize import word_tokenize\n",
        "from nltk.corpus import stopwords\n",
        "from Sastrawi.Stemmer.StemmerFactory import StemmerFactory\n",
        "\n",
        "# Download data NLTK\n",
        "nltk.download('punkt')\n",
        "nltk.download('stopwords')\n",
        "\n",
        "def preprocess_tweet(tweet):\n",
        "    # Menghapus URL\n",
        "    tweet = re.sub(r\"http\\S+|www\\S+|https\\S+\", '', tweet)\n",
        "    # Menghapus mention dan hashtag\n",
        "    tweet = re.sub(r\"@\\w+|#\\w+\", '', tweet)\n",
        "    # Menghapus karakter khusus\n",
        "    tweet = re.sub(r\"[^\\w\\s]\", '', tweet)\n",
        "    # Tokenisasi\n",
        "    tokens = word_tokenize(tweet)\n",
        "    # Mengonversi ke huruf kecil\n",
        "    tokens = [token.lower() for token in tokens]\n",
        "    # Menghapus stopwords\n",
        "    stop_words = set(stopwords.words('indonesian'))\n",
        "    tokens = [token for token in tokens if token not in stop_words]\n",
        "    # Stemming (opsional)\n",
        "    factory = StemmerFactory()\n",
        "    stemmer = factory.create_stemmer()\n",
        "    tokens = [stemmer.stem(token) for token in tokens]\n",
        "    return ' '.join(tokens)\n",
        "\n",
        "# Contoh penggunaan\n",
        "# tweet = \"Cek penelitian #kecerdasanbuatan yang menarik di https://contoh.com! @peneliti #machinelearning\"\n",
        "# cleaned_tweet = preprocess_tweet(tweet)\n",
        "# print(\"Tweet bersih:\", cleaned_tweet)\n"
      ]
    },
    {
      "cell_type": "code",
      "source": [
        "# Read the CSV file into a DataFrame\n",
        "df = pd.read_csv('dataset.csv')\n",
        "\n",
        "# Apply the preprocess_text function to the desired column\n",
        "df['preprocessed_column'] = df['full_text'].apply(preprocess_tweet)\n",
        "\n",
        "# Display the DataFrame with the preprocessed column\n",
        "print(df)\n",
        "\n",
        "# Save the DataFrame back to a CSV file\n",
        "df.to_csv('preprocessed_dataset.csv', index=False)"
      ],
      "metadata": {
        "colab": {
          "base_uri": "https://localhost:8080/"
        },
        "id": "lQq98odozDNQ",
        "outputId": "a6f6d468-4c1e-4fc7-f809-836ccbca7085"
      },
      "execution_count": 3,
      "outputs": [
        {
          "output_type": "stream",
          "name": "stdout",
          "text": [
            "     Status                                          full_text  \\\n",
            "0      Fact  Ahli Ajak Masyarakat Melihat Teknologi Wolbach...   \n",
            "1      Fact  TEKNOLOGI wolbachia dianggap sebagai trobosan ...   \n",
            "2      Fact  Kok, bisa ada nyamuk yang mencegah DBD? Bukann...   \n",
            "3      Fact  Program Penyebaran Nyamuk Wolbachia, Langkah M...   \n",
            "4      Fact  Wolbachia sebagai upaya menekan khasus DBD.  #...   \n",
            "...     ...                                                ...   \n",
            "996    Fact  @mozamozza770 @mr_banan12 @8angSaid @Abahpurwa...   \n",
            "997    Fake  InsyaALLAAH sedikit penjelasan Wolbachia yg se...   \n",
            "998    Fact  Hasil kajian analisis risiko yang dilakukan se...   \n",
            "999    Fake  @DokterTifa Krn @DPR_RI wakil rakyat jd tolong...   \n",
            "1000   Fact  Teknologi nyamuk ber-Wolbachia merupakan salah...   \n",
            "\n",
            "                                    preprocessed_column  \n",
            "0     ahli ajak masyarakat teknologi wolbachia lawan...  \n",
            "1     teknologi wolbachia anggap trobosan entas dema...  \n",
            "2     nyamuk cegah dbd nyamuk agen sebar virus dengu...  \n",
            "3     program sebar nyamuk wolbachia langkah kendali...  \n",
            "4                      wolbachia upaya tekan khasus dbd  \n",
            "...                                                 ...  \n",
            "996   nyamuk yg sebar jenis nyamuk yg ngandung wolba...  \n",
            "997   insyaallaah jelas wolbachia yg sebab autoimun ...  \n",
            "998   hasil kaji analisis risiko ahli teknologi nyam...  \n",
            "999   krn wakil rakyat jd tolong wakil rakyat utk jd...  \n",
            "1000  teknologi nyamuk berwolbachia salah metode tek...  \n",
            "\n",
            "[1001 rows x 3 columns]\n"
          ]
        }
      ]
    },
    {
      "cell_type": "code",
      "source": [
        "df_pre = pd.read_csv('preprocessed_dataset.csv')\n",
        "\n",
        "# Mengubah nilai dalam kolom \"status\" dari \"fact\" dan \"fake\" menjadi 0 dan 1\n",
        "df_pre['Status'] = df_pre['Status'].replace({'Fact': 1, 'Fake': 0})\n",
        "\n",
        "# Mengubah nama kolom \"status\" menjadi \"label\"\n",
        "df_pre.rename(columns={'Status': 'label'}, inplace=True)\n",
        "\n",
        "# Menyimpan DataFrame kembali ke file CSV (opsional)\n",
        "df_pre.to_csv('new_preprocessed_dataset.csv', index=False)\n",
        "\n",
        "# Menampilkan DataFrame\n",
        "print(df_pre)"
      ],
      "metadata": {
        "colab": {
          "base_uri": "https://localhost:8080/"
        },
        "id": "ZU2Np2gn2W53",
        "outputId": "984a4f7f-4779-45ab-ed63-469781cdf591"
      },
      "execution_count": 4,
      "outputs": [
        {
          "output_type": "stream",
          "name": "stdout",
          "text": [
            "      label                                          full_text  \\\n",
            "0         1  Ahli Ajak Masyarakat Melihat Teknologi Wolbach...   \n",
            "1         1  TEKNOLOGI wolbachia dianggap sebagai trobosan ...   \n",
            "2         1  Kok, bisa ada nyamuk yang mencegah DBD? Bukann...   \n",
            "3         1  Program Penyebaran Nyamuk Wolbachia, Langkah M...   \n",
            "4         1  Wolbachia sebagai upaya menekan khasus DBD.  #...   \n",
            "...     ...                                                ...   \n",
            "996       1  @mozamozza770 @mr_banan12 @8angSaid @Abahpurwa...   \n",
            "997       0  InsyaALLAAH sedikit penjelasan Wolbachia yg se...   \n",
            "998       1  Hasil kajian analisis risiko yang dilakukan se...   \n",
            "999       0  @DokterTifa Krn @DPR_RI wakil rakyat jd tolong...   \n",
            "1000      1  Teknologi nyamuk ber-Wolbachia merupakan salah...   \n",
            "\n",
            "                                    preprocessed_column  \n",
            "0     ahli ajak masyarakat teknologi wolbachia lawan...  \n",
            "1     teknologi wolbachia anggap trobosan entas dema...  \n",
            "2     nyamuk cegah dbd nyamuk agen sebar virus dengu...  \n",
            "3     program sebar nyamuk wolbachia langkah kendali...  \n",
            "4                      wolbachia upaya tekan khasus dbd  \n",
            "...                                                 ...  \n",
            "996   nyamuk yg sebar jenis nyamuk yg ngandung wolba...  \n",
            "997   insyaallaah jelas wolbachia yg sebab autoimun ...  \n",
            "998   hasil kaji analisis risiko ahli teknologi nyam...  \n",
            "999   krn wakil rakyat jd tolong wakil rakyat utk jd...  \n",
            "1000  teknologi nyamuk berwolbachia salah metode tek...  \n",
            "\n",
            "[1001 rows x 3 columns]\n"
          ]
        }
      ]
    },
    {
      "cell_type": "markdown",
      "source": [
        "##**Bag-of-Words Representation**"
      ],
      "metadata": {
        "id": "3zhuzLu20SBX"
      }
    },
    {
      "cell_type": "code",
      "source": [
        "from collections import Counter\n",
        "\n",
        "# Step 1: Tokenization\n",
        "def tokenize(text):\n",
        "    return text.split()\n",
        "\n",
        "# Step 2: Build Vocabulary\n",
        "def build_vocabulary(corpus):\n",
        "    vocabulary = set()\n",
        "    for document in corpus:\n",
        "        tokens = tokenize(document)\n",
        "        vocabulary.update(tokens)\n",
        "    return sorted(vocabulary)\n",
        "\n",
        "# Step 3: Create Bag-of-Words Representation\n",
        "def create_bow(corpus, vocabulary):\n",
        "    bow = []\n",
        "    for document in corpus:\n",
        "        tokens = tokenize(document)\n",
        "        bow_vector = Counter(tokens)\n",
        "        document_vector = [bow_vector[word] if word in bow_vector else 0 for word in vocabulary]\n",
        "        bow.append(document_vector)\n",
        "    return bow\n"
      ],
      "metadata": {
        "id": "6QUTCwnL0QxF"
      },
      "execution_count": 5,
      "outputs": []
    },
    {
      "cell_type": "code",
      "source": [
        "# Read the CSV file into a DataFrame\n",
        "df = pd.read_csv('new_preprocessed_dataset.csv')\n",
        "\n",
        "# Build vocabulary from cleaned text\n",
        "vocabulary = build_vocabulary(df_pre['preprocessed_column'])\n",
        "\n",
        "# Create BoW representation\n",
        "bow_representation = create_bow(df['preprocessed_column'], vocabulary)\n",
        "\n",
        "# Display the BoW representation of the first document\n",
        "print(\"BoW representation of the first document:\")\n",
        "print(bow_representation[0])"
      ],
      "metadata": {
        "colab": {
          "base_uri": "https://localhost:8080/"
        },
        "id": "90LvEqSROsI_",
        "outputId": "596c1999-46a2-48f9-a82c-df7deb924802"
      },
      "execution_count": 7,
      "outputs": [
        {
          "output_type": "stream",
          "name": "stdout",
          "text": [
            "BoW representation of the first document:\n",
            "[0, 0, 0, 0, 0, 0, 0, 0, 0, 0, 0, 0, 0, 0, 0, 0, 0, 0, 0, 0, 0, 0, 0, 0, 0, 0, 0, 0, 0, 0, 0, 0, 0, 0, 0, 0, 0, 0, 0, 0, 0, 0, 0, 0, 0, 0, 0, 0, 0, 0, 0, 0, 0, 0, 0, 0, 0, 0, 0, 0, 0, 0, 0, 0, 0, 0, 0, 0, 0, 0, 0, 0, 0, 0, 0, 0, 0, 0, 0, 0, 0, 0, 0, 0, 0, 0, 0, 0, 0, 0, 0, 0, 0, 0, 0, 0, 0, 0, 0, 0, 0, 0, 0, 0, 0, 0, 0, 0, 0, 0, 0, 0, 0, 0, 0, 0, 0, 0, 0, 0, 0, 1, 0, 0, 0, 0, 0, 0, 0, 0, 0, 0, 1, 0, 0, 0, 0, 0, 0, 0, 0, 0, 0, 0, 0, 0, 0, 0, 0, 0, 0, 0, 0, 0, 0, 0, 0, 0, 0, 0, 0, 0, 0, 0, 0, 0, 0, 0, 0, 0, 0, 0, 0, 0, 0, 0, 0, 0, 0, 0, 0, 0, 0, 0, 0, 0, 0, 0, 0, 0, 0, 0, 0, 0, 0, 0, 0, 0, 0, 0, 0, 0, 0, 0, 0, 0, 0, 0, 0, 0, 0, 0, 0, 0, 0, 0, 0, 0, 0, 0, 0, 0, 0, 0, 0, 0, 0, 0, 0, 0, 0, 0, 0, 0, 0, 0, 0, 0, 0, 0, 0, 0, 0, 0, 0, 0, 0, 0, 0, 0, 0, 0, 0, 0, 0, 0, 0, 0, 0, 0, 0, 0, 0, 0, 0, 0, 0, 0, 0, 0, 0, 0, 0, 0, 0, 0, 0, 0, 0, 0, 0, 0, 0, 0, 0, 0, 0, 0, 0, 0, 0, 0, 0, 0, 0, 0, 0, 0, 0, 0, 0, 0, 0, 0, 0, 0, 0, 0, 0, 0, 0, 0, 0, 0, 0, 0, 0, 0, 0, 0, 0, 0, 0, 0, 0, 0, 0, 0, 0, 0, 0, 0, 0, 0, 0, 0, 0, 0, 0, 0, 0, 0, 0, 0, 0, 0, 0, 0, 0, 0, 0, 0, 0, 0, 0, 0, 0, 0, 0, 0, 0, 0, 0, 0, 0, 0, 0, 0, 0, 0, 0, 0, 0, 0, 0, 0, 0, 0, 0, 0, 0, 0, 0, 0, 0, 0, 0, 0, 0, 0, 0, 0, 0, 0, 0, 0, 0, 0, 0, 0, 0, 0, 0, 0, 0, 0, 0, 0, 0, 0, 0, 0, 0, 0, 0, 0, 0, 0, 0, 0, 0, 0, 0, 0, 0, 0, 0, 0, 0, 0, 0, 0, 0, 0, 0, 0, 0, 0, 0, 0, 0, 0, 0, 0, 0, 0, 0, 0, 0, 0, 0, 0, 0, 0, 0, 0, 0, 0, 0, 0, 0, 0, 0, 0, 0, 0, 0, 0, 0, 0, 0, 0, 0, 0, 0, 0, 0, 0, 0, 0, 0, 0, 0, 0, 0, 0, 0, 0, 0, 0, 0, 0, 0, 0, 0, 0, 0, 0, 0, 0, 0, 0, 0, 0, 0, 0, 0, 0, 0, 0, 0, 0, 0, 0, 0, 0, 0, 0, 0, 0, 0, 0, 0, 0, 0, 0, 0, 0, 0, 0, 0, 0, 0, 0, 0, 0, 0, 0, 0, 0, 0, 0, 0, 0, 0, 0, 0, 0, 0, 0, 0, 0, 0, 0, 0, 0, 0, 0, 0, 0, 0, 0, 0, 0, 0, 0, 0, 0, 0, 1, 0, 0, 0, 0, 0, 0, 0, 0, 0, 0, 0, 0, 0, 0, 0, 0, 0, 0, 0, 0, 0, 0, 0, 0, 0, 0, 0, 0, 0, 0, 0, 0, 0, 0, 0, 0, 0, 0, 0, 0, 0, 0, 0, 0, 0, 0, 0, 0, 0, 0, 0, 0, 0, 0, 0, 0, 0, 0, 0, 0, 0, 0, 0, 0, 0, 0, 0, 0, 0, 0, 0, 0, 0, 0, 0, 0, 0, 0, 0, 0, 0, 0, 0, 0, 0, 0, 0, 0, 0, 0, 0, 0, 0, 0, 0, 0, 0, 0, 0, 0, 0, 0, 0, 0, 0, 0, 0, 0, 0, 0, 0, 0, 0, 0, 0, 0, 0, 0, 0, 0, 0, 0, 0, 0, 0, 0, 0, 0, 0, 0, 0, 0, 0, 0, 0, 0, 0, 0, 0, 0, 0, 0, 0, 0, 0, 0, 0, 0, 0, 0, 0, 0, 0, 0, 0, 0, 0, 0, 0, 0, 0, 0, 0, 0, 0, 0, 0, 0, 0, 0, 0, 0, 0, 0, 0, 0, 0, 0, 0, 0, 0, 0, 0, 0, 0, 0, 0, 0, 0, 0, 0, 0, 0, 0, 0, 0, 0, 0, 0, 0, 0, 0, 0, 0, 0, 0, 0, 0, 0, 0, 0, 0, 0, 0, 0, 0, 0, 0, 0, 0, 0, 0, 0, 0, 0, 0, 0, 0, 0, 0, 0, 0, 0, 0, 0, 0, 0, 0, 0, 0, 0, 0, 0, 0, 0, 0, 0, 0, 0, 0, 0, 0, 0, 0, 0, 0, 0, 0, 0, 0, 0, 0, 0, 0, 0, 0, 0, 0, 0, 0, 0, 0, 0, 0, 0, 0, 0, 0, 0, 0, 0, 0, 0, 0, 0, 0, 0, 0, 0, 0, 0, 0, 0, 0, 0, 0, 0, 0, 0, 0, 0, 0, 0, 0, 0, 0, 0, 0, 0, 0, 0, 0, 0, 0, 0, 0, 0, 0, 0, 0, 0, 0, 0, 0, 0, 0, 0, 0, 0, 0, 0, 0, 0, 0, 0, 0, 0, 0, 0, 0, 0, 0, 0, 0, 0, 0, 0, 0, 0, 0, 0, 0, 0, 0, 0, 0, 0, 0, 0, 0, 0, 0, 0, 0, 0, 0, 0, 0, 0, 0, 0, 0, 0, 0, 0, 0, 0, 0, 0, 0, 0, 0, 0, 0, 0, 0, 0, 0, 0, 0, 0, 0, 0, 0, 0, 0, 0, 0, 0, 0, 0, 0, 0, 0, 0, 0, 0, 0, 0, 0, 0, 0, 0, 0, 0, 0, 0, 0, 0, 0, 0, 0, 0, 0, 0, 0, 0, 0, 0, 0, 0, 0, 0, 0, 0, 0, 0, 0, 0, 0, 0, 0, 0, 0, 0, 0, 0, 0, 0, 0, 0, 0, 0, 0, 0, 0, 0, 0, 0, 0, 0, 0, 0, 0, 0, 0, 0, 0, 0, 0, 0, 0, 0, 0, 0, 0, 0, 0, 0, 0, 0, 0, 0, 0, 0, 0, 0, 0, 0, 0, 0, 0, 0, 0, 0, 0, 0, 0, 0, 0, 0, 0, 0, 0, 0, 0, 0, 0, 0, 0, 0, 0, 0, 0, 0, 0, 0, 0, 0, 0, 0, 0, 0, 0, 0, 0, 0, 0, 0, 0, 0, 0, 0, 0, 0, 0, 0, 0, 0, 0, 0, 0, 0, 0, 0, 0, 0, 0, 0, 0, 0, 0, 0, 0, 0, 0, 0, 0, 0, 0, 0, 0, 0, 0, 0, 0, 0, 0, 0, 0, 0, 0, 0, 0, 0, 0, 0, 0, 0, 0, 0, 0, 0, 0, 0, 0, 0, 0, 0, 0, 0, 0, 0, 0, 0, 0, 0, 0, 0, 0, 0, 0, 0, 0, 0, 0, 0, 0, 0, 0, 0, 0, 0, 0, 0, 0, 0, 0, 0, 0, 0, 0, 0, 0, 0, 0, 0, 0, 0, 0, 0, 0, 0, 0, 0, 0, 0, 0, 0, 0, 0, 0, 0, 0, 0, 0, 0, 0, 0, 0, 0, 0, 0, 0, 0, 0, 0, 0, 0, 0, 0, 0, 0, 0, 0, 0, 0, 0, 0, 0, 0, 0, 0, 0, 0, 0, 0, 0, 0, 0, 0, 0, 0, 0, 0, 0, 0, 0, 0, 0, 0, 0, 0, 0, 0, 0, 0, 0, 0, 0, 0, 0, 0, 0, 0, 0, 0, 0, 0, 0, 0, 0, 0, 0, 0, 0, 0, 0, 0, 0, 0, 0, 0, 0, 0, 0, 0, 0, 0, 0, 0, 0, 0, 0, 0, 0, 0, 0, 0, 0, 0, 0, 0, 0, 0, 0, 0, 0, 0, 0, 0, 0, 0, 0, 0, 0, 0, 0, 0, 0, 0, 0, 0, 0, 0, 0, 0, 0, 0, 0, 0, 0, 0, 0, 0, 0, 0, 0, 0, 0, 0, 0, 0, 0, 0, 0, 0, 0, 0, 0, 0, 0, 0, 0, 0, 0, 0, 0, 0, 0, 0, 0, 0, 0, 0, 0, 0, 0, 0, 0, 0, 0, 0, 0, 0, 0, 0, 0, 0, 0, 0, 0, 0, 0, 1, 0, 0, 0, 0, 0, 0, 0, 0, 0, 0, 0, 0, 0, 0, 0, 0, 0, 0, 0, 0, 0, 0, 0, 0, 0, 0, 0, 0, 0, 0, 0, 0, 0, 0, 0, 0, 0, 0, 0, 0, 0, 0, 0, 0, 0, 0, 0, 0, 0, 0, 0, 0, 0, 0, 0, 0, 0, 0, 0, 0, 0, 0, 0, 0, 0, 0, 0, 0, 0, 0, 0, 0, 0, 0, 0, 0, 0, 0, 0, 0, 0, 0, 0, 0, 0, 0, 0, 0, 0, 0, 0, 0, 0, 0, 0, 0, 0, 0, 0, 0, 0, 0, 0, 0, 0, 0, 0, 0, 0, 0, 0, 0, 0, 0, 0, 0, 0, 0, 1, 0, 0, 0, 0, 0, 0, 0, 0, 0, 0, 0, 0, 0, 0, 0, 0, 0, 0, 0, 0, 0, 0, 0, 0, 0, 0, 0, 0, 0, 0, 0, 0, 0, 0, 0, 0, 0, 0, 0, 0, 0, 0, 0, 0, 0, 0, 0, 0, 0, 0, 0, 0, 0, 0, 0, 0, 0, 0, 0, 0, 0, 0, 0, 0, 0, 0, 0, 0, 0, 0, 0, 0, 0, 0, 0, 0, 0, 0, 0, 0, 0, 0, 0, 0, 0, 0, 0, 0, 0, 0, 0, 0, 0, 0, 0, 0, 0, 0, 0, 0, 0, 0, 0, 0, 0, 0, 0, 0, 0, 0, 0, 0, 0, 0, 0, 0, 0, 0, 0, 0, 0, 0, 0, 0, 0, 0, 0, 0, 0, 0, 0, 0, 0, 0, 0, 0, 0, 0, 0, 0, 0, 0, 0, 0, 0, 0, 0, 0, 0, 0, 0, 0, 0, 0, 0, 0, 0, 0, 0, 0, 0, 0, 0, 0, 0, 0, 0, 0, 0, 0, 0, 0, 0, 0, 0, 0, 0, 0, 0, 0, 0, 0, 0, 0, 0, 0, 0, 0, 0, 0, 0, 0, 0, 0, 0, 0, 0, 0, 0, 0, 0, 0, 0, 0, 0, 0, 0, 0, 0, 0, 0, 0, 0, 0, 0, 0, 0, 0, 0, 0, 0, 0, 0, 0, 0, 0, 0, 0, 0, 0, 0, 0, 0, 0, 0, 0, 0, 0, 0, 0, 0, 0, 0, 0, 0, 0, 0, 0, 0, 0, 0, 0, 0, 0, 0, 0, 0, 0, 0, 0, 0, 0, 0, 0, 0, 0, 0, 0, 0, 0, 0, 0, 0, 0, 0, 0, 0, 0, 0, 0, 0, 0, 0, 0, 0, 0, 0, 0, 0, 0, 0, 0, 0, 0, 0, 0, 0, 0, 0, 0, 0, 0, 0, 0, 0, 0, 0, 0, 0, 0, 0, 0, 0, 0, 0, 0, 0, 0, 0, 0, 0, 0, 0, 0, 0, 0, 0, 0, 0, 0, 0, 0, 0, 0, 0, 0, 0, 0, 0, 0, 0, 0, 0, 0, 0, 0, 0, 0, 0, 0, 0, 0, 0, 0, 0, 0, 0, 0, 0, 0, 0, 0, 0, 0, 0, 0, 0, 0, 0, 0, 0, 0, 0, 0, 0, 0, 0, 0, 0, 0, 0, 0, 0, 0, 0, 0, 0, 0, 0, 0, 0, 0, 0, 0, 0, 0, 0, 0, 0, 0, 0, 0, 0, 0, 0, 0, 0, 0, 0, 0, 0, 0, 0, 0, 0, 0, 0, 0, 0, 0, 0, 0, 0, 0, 0, 0, 0, 0, 0, 0, 0, 0, 0, 0, 0, 0, 0, 0, 0, 0, 1, 0, 0, 0, 0, 0, 0, 0, 0, 0, 0, 0, 0, 0, 0, 0, 0, 0, 0, 0, 0, 0, 0, 0, 0, 0, 0, 0, 0, 0, 0, 0, 0, 0, 0, 0, 0, 0, 0, 0, 0, 0, 0, 0, 0, 0, 0, 0, 0, 0, 0, 0, 0, 0, 0, 0, 0, 0, 0, 0, 0, 0, 0, 0, 0, 0, 0, 0, 0, 0, 0, 0, 0, 0, 0, 0, 0, 0, 0, 0, 0, 0, 0, 0, 0, 0, 0, 0, 0, 0, 0, 0, 0, 0, 0, 0, 0, 0, 0, 0, 0, 0, 0, 0, 0, 0, 0, 0, 0, 0, 0, 0, 0, 0, 0, 0, 0, 0, 0, 0, 0, 0, 0, 0, 0, 0, 0, 0, 0, 0, 0, 0, 0, 0, 0, 0, 0, 0, 0, 0, 0, 0, 0, 0, 0, 0, 0, 0, 0, 0, 0, 0, 0, 0, 0, 0, 0, 0, 0, 0, 0, 0, 0, 0, 0, 0, 0, 0, 0, 0, 0, 0, 0, 0, 0, 0, 0, 0, 0, 0, 0, 0, 0, 0, 0, 0, 0, 0, 0, 0, 0, 0, 0, 0, 0, 0, 0, 0, 0, 0, 0, 0, 0, 0, 0, 0, 0, 0, 0, 0, 0, 0, 0, 0, 0, 0, 0, 0, 0, 0, 0, 0, 0, 0, 0, 0, 0, 0, 0, 0, 0, 0, 0, 0, 0, 0, 0, 0, 0, 0, 0, 0, 0, 0, 0, 0, 0, 0, 0, 0, 0, 0, 0, 0, 0, 0, 0, 0, 0, 0, 0, 0, 0, 0, 0, 0, 0, 0, 0, 0, 0, 0, 0, 0, 0, 0, 0, 0, 0, 0, 0, 0, 0, 0, 0, 0, 0, 0, 0, 0, 0, 0, 0, 0, 0, 0, 0, 0, 0, 0, 0, 0, 0, 0, 1, 0, 0, 0, 0, 0, 0, 0, 0, 0, 0, 0, 0, 0, 0, 0, 0, 0, 0, 0, 0, 0, 0, 0, 0, 0, 0, 0, 0, 0, 0, 0, 0, 0, 0, 0, 0, 0, 0, 0, 0, 0, 0, 0, 0, 0, 0, 0, 0, 0, 0, 0, 0, 0, 0, 0, 0, 0, 0, 0, 0, 0, 0, 0, 0, 0, 0, 0, 0, 0, 0, 0, 0, 0, 0, 0, 0, 0, 0, 0, 0, 0, 0, 0, 0, 0, 0, 0, 0, 0, 0, 0, 0, 0, 0, 0, 0, 0, 0, 0, 0, 0, 0, 0, 0, 0, 0, 0, 0, 0, 0, 0, 0, 0, 0, 0, 0, 0, 0, 0, 0, 0, 0, 0, 0, 0, 0, 0, 0, 0, 0, 0, 0, 0, 0, 0, 1, 0, 0, 0, 0, 0, 0, 0, 0, 0, 0, 0, 0, 0, 0, 0, 0, 0, 0, 0, 0, 0, 0, 0, 0, 0, 0, 0, 0, 0, 0, 0, 0, 0, 0, 0, 0, 0, 0, 0, 0, 0, 0, 0, 0, 0, 0, 0, 0, 0, 0, 0, 0, 0, 0, 0, 0, 0, 0, 0, 0, 0, 0, 0, 0, 0, 0, 0, 0, 0, 0, 0, 0, 0, 0, 0, 0, 0, 0, 0, 0, 0, 0, 0, 0, 0, 0, 0, 0, 0, 0, 0, 0, 0, 0, 0, 0, 0, 0, 0, 0, 0, 0, 0, 0, 0, 0, 0, 0, 0, 0, 0, 0, 0, 0, 0, 0, 0, 0, 0, 0, 0, 0, 0, 0, 0, 0, 0, 0, 0, 0, 0, 0, 0, 0, 0, 0, 0, 0, 0, 0, 0, 0, 0, 0, 0, 0, 0, 0, 0, 0, 0, 0, 0, 0, 0, 0, 0, 0, 0, 0, 0, 0, 0, 0, 0, 0, 0, 0, 0, 0, 0, 0, 0, 0, 0, 0, 0, 0, 0, 0, 0, 0, 0, 0, 0, 0, 0, 0, 0, 0, 0, 0, 0, 0, 0, 0, 0, 0, 0, 0, 0, 0, 0, 0, 0, 0, 0, 0, 0, 0, 0, 0, 0, 0, 0, 0, 0, 0, 0, 0, 0, 0, 0, 0, 0, 0, 0, 0, 0, 0, 0, 0, 0, 0, 0, 0, 0, 0, 0, 0, 0, 0, 0, 0, 0, 0, 0, 0, 0, 0, 0, 0, 0, 0, 0, 0, 0, 0, 0, 0, 0, 0, 0, 0, 1, 0, 0, 0, 0, 0, 0, 0, 0, 0, 0, 0, 0, 0, 0, 0, 0, 0, 0, 0, 0, 0, 0, 0, 0, 0, 0, 0, 0, 0, 0, 0, 0, 0, 0, 0, 0, 0, 0, 0, 0]\n"
          ]
        }
      ]
    },
    {
      "cell_type": "code",
      "source": [
        "import pandas as pd\n",
        "\n",
        "# Membuat DataFrame dari BoW representation\n",
        "bow_df = pd.DataFrame(bow_representation, columns=vocabulary)\n",
        "\n",
        "# Menampilkan DataFrame\n",
        "print(\"Bag-of-Words Representation:\")\n",
        "print(bow_df)\n"
      ],
      "metadata": {
        "colab": {
          "base_uri": "https://localhost:8080/"
        },
        "id": "morqqbzFOzaw",
        "outputId": "5e1f10ba-d82e-4f04-f6b8-b27b56ccf8be"
      },
      "execution_count": 13,
      "outputs": [
        {
          "output_type": "stream",
          "name": "stdout",
          "text": [
            "Bag-of-Words Representation:\n",
            "      0  02  06  1  10  100  1000  100000  10tahun  11  ...  yogyakarta  you  \\\n",
            "0     0   0   0  0   0    0     0       0        0   0  ...           0    0   \n",
            "1     0   0   0  0   0    0     0       0        0   0  ...           0    0   \n",
            "2     0   0   0  0   0    0     0       0        0   0  ...           0    0   \n",
            "3     0   0   0  0   0    0     0       0        0   0  ...           0    0   \n",
            "4     0   0   0  0   0    0     0       0        0   0  ...           0    0   \n",
            "...  ..  ..  .. ..  ..  ...   ...     ...      ...  ..  ...         ...  ...   \n",
            "996   0   0   0  0   0    0     0       0        0   0  ...           0    0   \n",
            "997   0   0   0  1   0    0     0       0        0   0  ...           0    0   \n",
            "998   0   0   0  0   0    0     0       0        0   0  ...           0    0   \n",
            "999   0   0   0  0   0    0     0       0        0   0  ...           0    0   \n",
            "1000  0   0   0  0   0    0     0       0        0   0  ...           0    0   \n",
            "\n",
            "      youtube  yoyabantul  yuk  z  zika  zombie  zoonosis  zuma  \n",
            "0           0           0    0  0     0       0         0     0  \n",
            "1           0           0    0  0     0       0         0     0  \n",
            "2           0           0    1  0     0       0         0     0  \n",
            "3           0           0    0  0     0       0         0     0  \n",
            "4           0           0    0  0     0       0         0     0  \n",
            "...       ...         ...  ... ..   ...     ...       ...   ...  \n",
            "996         0           0    0  0     0       0         0     0  \n",
            "997         0           0    0  0     0       0         0     0  \n",
            "998         0           0    0  0     0       0         0     0  \n",
            "999         0           0    0  0     0       0         0     0  \n",
            "1000        0           0    1  0     0       0         0     0  \n",
            "\n",
            "[1001 rows x 2700 columns]\n"
          ]
        }
      ]
    },
    {
      "cell_type": "code",
      "source": [
        "# Dan DataFrame yang berisi label\n",
        "labels_df = df['label']  # Misalnya, 1 untuk fakta dan 0 untuk palsu\n",
        "\n",
        "# Menggabungkan kedua DataFrame berdasarkan indeks\n",
        "combined_df = pd.concat([labels_df, bow_df], axis=1)\n",
        "\n",
        "# Menampilkan DataFrame hasil gabungan\n",
        "print(\"Combined DataFrame:\")\n",
        "print(combined_df)\n",
        "\n",
        "# Menyimpan DataFrame ke dalam file CSV\n",
        "combined_df.to_csv('bow_representation.csv', index=False)"
      ],
      "metadata": {
        "colab": {
          "base_uri": "https://localhost:8080/"
        },
        "id": "JPl_9cbdPTZF",
        "outputId": "4ded52c0-27fc-4589-e3cd-500315cb8368"
      },
      "execution_count": 15,
      "outputs": [
        {
          "output_type": "stream",
          "name": "stdout",
          "text": [
            "Combined DataFrame:\n",
            "      label  0  02  06  1  10  100  1000  100000  10tahun  ...  yogyakarta  \\\n",
            "0         1  0   0   0  0   0    0     0       0        0  ...           0   \n",
            "1         1  0   0   0  0   0    0     0       0        0  ...           0   \n",
            "2         1  0   0   0  0   0    0     0       0        0  ...           0   \n",
            "3         1  0   0   0  0   0    0     0       0        0  ...           0   \n",
            "4         1  0   0   0  0   0    0     0       0        0  ...           0   \n",
            "...     ... ..  ..  .. ..  ..  ...   ...     ...      ...  ...         ...   \n",
            "996       1  0   0   0  0   0    0     0       0        0  ...           0   \n",
            "997       0  0   0   0  1   0    0     0       0        0  ...           0   \n",
            "998       1  0   0   0  0   0    0     0       0        0  ...           0   \n",
            "999       0  0   0   0  0   0    0     0       0        0  ...           0   \n",
            "1000      1  0   0   0  0   0    0     0       0        0  ...           0   \n",
            "\n",
            "      you  youtube  yoyabantul  yuk  z  zika  zombie  zoonosis  zuma  \n",
            "0       0        0           0    0  0     0       0         0     0  \n",
            "1       0        0           0    0  0     0       0         0     0  \n",
            "2       0        0           0    1  0     0       0         0     0  \n",
            "3       0        0           0    0  0     0       0         0     0  \n",
            "4       0        0           0    0  0     0       0         0     0  \n",
            "...   ...      ...         ...  ... ..   ...     ...       ...   ...  \n",
            "996     0        0           0    0  0     0       0         0     0  \n",
            "997     0        0           0    0  0     0       0         0     0  \n",
            "998     0        0           0    0  0     0       0         0     0  \n",
            "999     0        0           0    0  0     0       0         0     0  \n",
            "1000    0        0           0    1  0     0       0         0     0  \n",
            "\n",
            "[1001 rows x 2701 columns]\n"
          ]
        }
      ]
    }
  ]
}